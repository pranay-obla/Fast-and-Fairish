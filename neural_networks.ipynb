{
 "cells": [
  {
   "cell_type": "code",
   "execution_count": 292,
   "metadata": {},
   "outputs": [],
   "source": [
    "import numpy as np\n",
    "import pandas as pd \n",
    "from sklearn.metrics import accuracy_score, precision_score, recall_score, f1_score\n",
    "from sklearn.model_selection import train_test_split\n",
    "from sklearn.preprocessing import StandardScaler\n",
    "from sklearn.preprocessing import LabelEncoder\n",
    "from sklearn.metrics import confusion_matrix, classification_report\n",
    "import tensorflow as tf\n",
    "from tensorflow.keras.models import Sequential\n",
    "from tensorflow.keras.layers import Dense, Dropout\n",
    "from tensorflow.keras.callbacks import ModelCheckpoint"
   ]
  },
  {
   "cell_type": "code",
   "execution_count": 293,
   "metadata": {},
   "outputs": [
    {
     "data": {
      "text/html": [
       "<div>\n",
       "<style scoped>\n",
       "    .dataframe tbody tr th:only-of-type {\n",
       "        vertical-align: middle;\n",
       "    }\n",
       "\n",
       "    .dataframe tbody tr th {\n",
       "        vertical-align: top;\n",
       "    }\n",
       "\n",
       "    .dataframe thead th {\n",
       "        text-align: right;\n",
       "    }\n",
       "</style>\n",
       "<table border=\"1\" class=\"dataframe\">\n",
       "  <thead>\n",
       "    <tr style=\"text-align: right;\">\n",
       "      <th></th>\n",
       "      <th>Transaction_ID</th>\n",
       "      <th>Timestamp</th>\n",
       "      <th>Vehicle_Type</th>\n",
       "      <th>FastagID</th>\n",
       "      <th>TollBoothID</th>\n",
       "      <th>Lane_Type</th>\n",
       "      <th>Vehicle_Dimensions</th>\n",
       "      <th>Transaction_Amount</th>\n",
       "      <th>Amount_paid</th>\n",
       "      <th>Geographical_Location</th>\n",
       "      <th>Vehicle_Speed</th>\n",
       "      <th>Vehicle_Plate_Number</th>\n",
       "      <th>Fraud_indicator</th>\n",
       "    </tr>\n",
       "  </thead>\n",
       "  <tbody>\n",
       "    <tr>\n",
       "      <th>0</th>\n",
       "      <td>1</td>\n",
       "      <td>1/6/2023 11:20</td>\n",
       "      <td>Bus</td>\n",
       "      <td>FTG-001-ABC-121</td>\n",
       "      <td>A-101</td>\n",
       "      <td>Express</td>\n",
       "      <td>Large</td>\n",
       "      <td>350</td>\n",
       "      <td>120</td>\n",
       "      <td>13.059816123454882, 77.77068662374292</td>\n",
       "      <td>65</td>\n",
       "      <td>KA11AB1234</td>\n",
       "      <td>Fraud</td>\n",
       "    </tr>\n",
       "    <tr>\n",
       "      <th>1</th>\n",
       "      <td>2</td>\n",
       "      <td>1/7/2023 14:55</td>\n",
       "      <td>Car</td>\n",
       "      <td>FTG-002-XYZ-451</td>\n",
       "      <td>B-102</td>\n",
       "      <td>Regular</td>\n",
       "      <td>Small</td>\n",
       "      <td>120</td>\n",
       "      <td>100</td>\n",
       "      <td>13.059816123454882, 77.77068662374292</td>\n",
       "      <td>78</td>\n",
       "      <td>KA66CD5678</td>\n",
       "      <td>Fraud</td>\n",
       "    </tr>\n",
       "    <tr>\n",
       "      <th>2</th>\n",
       "      <td>3</td>\n",
       "      <td>1/8/2023 18:25</td>\n",
       "      <td>Motorcycle</td>\n",
       "      <td>NaN</td>\n",
       "      <td>D-104</td>\n",
       "      <td>Regular</td>\n",
       "      <td>Small</td>\n",
       "      <td>0</td>\n",
       "      <td>0</td>\n",
       "      <td>13.059816123454882, 77.77068662374292</td>\n",
       "      <td>53</td>\n",
       "      <td>KA88EF9012</td>\n",
       "      <td>Not Fraud</td>\n",
       "    </tr>\n",
       "    <tr>\n",
       "      <th>3</th>\n",
       "      <td>4</td>\n",
       "      <td>1/9/2023 2:05</td>\n",
       "      <td>Truck</td>\n",
       "      <td>FTG-044-LMN-322</td>\n",
       "      <td>C-103</td>\n",
       "      <td>Regular</td>\n",
       "      <td>Large</td>\n",
       "      <td>350</td>\n",
       "      <td>120</td>\n",
       "      <td>13.059816123454882, 77.77068662374292</td>\n",
       "      <td>92</td>\n",
       "      <td>KA11GH3456</td>\n",
       "      <td>Fraud</td>\n",
       "    </tr>\n",
       "    <tr>\n",
       "      <th>4</th>\n",
       "      <td>5</td>\n",
       "      <td>1/10/2023 6:35</td>\n",
       "      <td>Van</td>\n",
       "      <td>FTG-505-DEF-652</td>\n",
       "      <td>B-102</td>\n",
       "      <td>Express</td>\n",
       "      <td>Medium</td>\n",
       "      <td>140</td>\n",
       "      <td>100</td>\n",
       "      <td>13.059816123454882, 77.77068662374292</td>\n",
       "      <td>60</td>\n",
       "      <td>KA44IJ6789</td>\n",
       "      <td>Fraud</td>\n",
       "    </tr>\n",
       "  </tbody>\n",
       "</table>\n",
       "</div>"
      ],
      "text/plain": [
       "   Transaction_ID       Timestamp Vehicle_Type         FastagID TollBoothID  \\\n",
       "0               1  1/6/2023 11:20         Bus   FTG-001-ABC-121       A-101   \n",
       "1               2  1/7/2023 14:55          Car  FTG-002-XYZ-451       B-102   \n",
       "2               3  1/8/2023 18:25   Motorcycle              NaN       D-104   \n",
       "3               4   1/9/2023 2:05        Truck  FTG-044-LMN-322       C-103   \n",
       "4               5  1/10/2023 6:35          Van  FTG-505-DEF-652       B-102   \n",
       "\n",
       "  Lane_Type Vehicle_Dimensions  Transaction_Amount  Amount_paid  \\\n",
       "0   Express              Large                 350          120   \n",
       "1   Regular              Small                 120          100   \n",
       "2   Regular              Small                   0            0   \n",
       "3   Regular              Large                 350          120   \n",
       "4   Express             Medium                 140          100   \n",
       "\n",
       "                   Geographical_Location  Vehicle_Speed Vehicle_Plate_Number  \\\n",
       "0  13.059816123454882, 77.77068662374292             65           KA11AB1234   \n",
       "1  13.059816123454882, 77.77068662374292             78           KA66CD5678   \n",
       "2  13.059816123454882, 77.77068662374292             53           KA88EF9012   \n",
       "3  13.059816123454882, 77.77068662374292             92           KA11GH3456   \n",
       "4  13.059816123454882, 77.77068662374292             60           KA44IJ6789   \n",
       "\n",
       "  Fraud_indicator  \n",
       "0           Fraud  \n",
       "1           Fraud  \n",
       "2       Not Fraud  \n",
       "3           Fraud  \n",
       "4           Fraud  "
      ]
     },
     "execution_count": 293,
     "metadata": {},
     "output_type": "execute_result"
    }
   ],
   "source": [
    "df = pd.read_csv('dataset.csv')\n",
    "df.head()"
   ]
  },
  {
   "cell_type": "code",
   "execution_count": 294,
   "metadata": {},
   "outputs": [
    {
     "name": "stdout",
     "output_type": "stream",
     "text": [
      "<class 'pandas.core.frame.DataFrame'>\n",
      "RangeIndex: 5000 entries, 0 to 4999\n",
      "Data columns (total 13 columns):\n",
      " #   Column                 Non-Null Count  Dtype \n",
      "---  ------                 --------------  ----- \n",
      " 0   Transaction_ID         5000 non-null   int64 \n",
      " 1   Timestamp              5000 non-null   object\n",
      " 2   Vehicle_Type           5000 non-null   object\n",
      " 3   FastagID               4451 non-null   object\n",
      " 4   TollBoothID            5000 non-null   object\n",
      " 5   Lane_Type              5000 non-null   object\n",
      " 6   Vehicle_Dimensions     5000 non-null   object\n",
      " 7   Transaction_Amount     5000 non-null   int64 \n",
      " 8   Amount_paid            5000 non-null   int64 \n",
      " 9   Geographical_Location  5000 non-null   object\n",
      " 10  Vehicle_Speed          5000 non-null   int64 \n",
      " 11  Vehicle_Plate_Number   5000 non-null   object\n",
      " 12  Fraud_indicator        5000 non-null   object\n",
      "dtypes: int64(4), object(9)\n",
      "memory usage: 507.9+ KB\n"
     ]
    }
   ],
   "source": [
    "df.info()"
   ]
  },
  {
   "cell_type": "code",
   "execution_count": 295,
   "metadata": {},
   "outputs": [
    {
     "data": {
      "text/plain": [
       "(5000, 13)"
      ]
     },
     "execution_count": 295,
     "metadata": {},
     "output_type": "execute_result"
    }
   ],
   "source": [
    "df.shape"
   ]
  },
  {
   "cell_type": "code",
   "execution_count": 296,
   "metadata": {},
   "outputs": [
    {
     "data": {
      "text/html": [
       "<div>\n",
       "<style scoped>\n",
       "    .dataframe tbody tr th:only-of-type {\n",
       "        vertical-align: middle;\n",
       "    }\n",
       "\n",
       "    .dataframe tbody tr th {\n",
       "        vertical-align: top;\n",
       "    }\n",
       "\n",
       "    .dataframe thead th {\n",
       "        text-align: right;\n",
       "    }\n",
       "</style>\n",
       "<table border=\"1\" class=\"dataframe\">\n",
       "  <thead>\n",
       "    <tr style=\"text-align: right;\">\n",
       "      <th></th>\n",
       "      <th>Transaction_ID</th>\n",
       "      <th>Transaction_Amount</th>\n",
       "      <th>Amount_paid</th>\n",
       "      <th>Vehicle_Speed</th>\n",
       "    </tr>\n",
       "  </thead>\n",
       "  <tbody>\n",
       "    <tr>\n",
       "      <th>count</th>\n",
       "      <td>5000.000000</td>\n",
       "      <td>5000.00000</td>\n",
       "      <td>5000.000000</td>\n",
       "      <td>5000.000000</td>\n",
       "    </tr>\n",
       "    <tr>\n",
       "      <th>mean</th>\n",
       "      <td>2500.500000</td>\n",
       "      <td>161.06200</td>\n",
       "      <td>141.261000</td>\n",
       "      <td>67.851200</td>\n",
       "    </tr>\n",
       "    <tr>\n",
       "      <th>std</th>\n",
       "      <td>1443.520003</td>\n",
       "      <td>112.44995</td>\n",
       "      <td>106.480996</td>\n",
       "      <td>16.597547</td>\n",
       "    </tr>\n",
       "    <tr>\n",
       "      <th>min</th>\n",
       "      <td>1.000000</td>\n",
       "      <td>0.00000</td>\n",
       "      <td>0.000000</td>\n",
       "      <td>10.000000</td>\n",
       "    </tr>\n",
       "    <tr>\n",
       "      <th>25%</th>\n",
       "      <td>1250.750000</td>\n",
       "      <td>100.00000</td>\n",
       "      <td>90.000000</td>\n",
       "      <td>54.000000</td>\n",
       "    </tr>\n",
       "    <tr>\n",
       "      <th>50%</th>\n",
       "      <td>2500.500000</td>\n",
       "      <td>130.00000</td>\n",
       "      <td>120.000000</td>\n",
       "      <td>67.000000</td>\n",
       "    </tr>\n",
       "    <tr>\n",
       "      <th>75%</th>\n",
       "      <td>3750.250000</td>\n",
       "      <td>290.00000</td>\n",
       "      <td>160.000000</td>\n",
       "      <td>82.000000</td>\n",
       "    </tr>\n",
       "    <tr>\n",
       "      <th>max</th>\n",
       "      <td>5000.000000</td>\n",
       "      <td>350.00000</td>\n",
       "      <td>350.000000</td>\n",
       "      <td>118.000000</td>\n",
       "    </tr>\n",
       "  </tbody>\n",
       "</table>\n",
       "</div>"
      ],
      "text/plain": [
       "       Transaction_ID  Transaction_Amount  Amount_paid  Vehicle_Speed\n",
       "count     5000.000000          5000.00000  5000.000000    5000.000000\n",
       "mean      2500.500000           161.06200   141.261000      67.851200\n",
       "std       1443.520003           112.44995   106.480996      16.597547\n",
       "min          1.000000             0.00000     0.000000      10.000000\n",
       "25%       1250.750000           100.00000    90.000000      54.000000\n",
       "50%       2500.500000           130.00000   120.000000      67.000000\n",
       "75%       3750.250000           290.00000   160.000000      82.000000\n",
       "max       5000.000000           350.00000   350.000000     118.000000"
      ]
     },
     "execution_count": 296,
     "metadata": {},
     "output_type": "execute_result"
    }
   ],
   "source": [
    "df.describe()"
   ]
  },
  {
   "cell_type": "code",
   "execution_count": 297,
   "metadata": {},
   "outputs": [
    {
     "data": {
      "text/html": [
       "<div>\n",
       "<style scoped>\n",
       "    .dataframe tbody tr th:only-of-type {\n",
       "        vertical-align: middle;\n",
       "    }\n",
       "\n",
       "    .dataframe tbody tr th {\n",
       "        vertical-align: top;\n",
       "    }\n",
       "\n",
       "    .dataframe thead th {\n",
       "        text-align: right;\n",
       "    }\n",
       "</style>\n",
       "<table border=\"1\" class=\"dataframe\">\n",
       "  <thead>\n",
       "    <tr style=\"text-align: right;\">\n",
       "      <th></th>\n",
       "      <th>Transaction_ID</th>\n",
       "      <th>Timestamp</th>\n",
       "      <th>Vehicle_Type</th>\n",
       "      <th>FastagID</th>\n",
       "      <th>TollBoothID</th>\n",
       "      <th>Lane_Type</th>\n",
       "      <th>Vehicle_Dimensions</th>\n",
       "      <th>Transaction_Amount</th>\n",
       "      <th>Amount_paid</th>\n",
       "      <th>Geographical_Location</th>\n",
       "      <th>Vehicle_Speed</th>\n",
       "      <th>Vehicle_Plate_Number</th>\n",
       "      <th>Fraud_indicator</th>\n",
       "    </tr>\n",
       "  </thead>\n",
       "  <tbody>\n",
       "    <tr>\n",
       "      <th>0</th>\n",
       "      <td>1</td>\n",
       "      <td>2023-01-06 11:20:00</td>\n",
       "      <td>Bus</td>\n",
       "      <td>FTG-001-ABC-121</td>\n",
       "      <td>A-101</td>\n",
       "      <td>Express</td>\n",
       "      <td>Large</td>\n",
       "      <td>350</td>\n",
       "      <td>120</td>\n",
       "      <td>13.059816123454882, 77.77068662374292</td>\n",
       "      <td>65</td>\n",
       "      <td>KA11AB1234</td>\n",
       "      <td>Fraud</td>\n",
       "    </tr>\n",
       "    <tr>\n",
       "      <th>1</th>\n",
       "      <td>2</td>\n",
       "      <td>2023-01-07 14:55:00</td>\n",
       "      <td>Car</td>\n",
       "      <td>FTG-002-XYZ-451</td>\n",
       "      <td>B-102</td>\n",
       "      <td>Regular</td>\n",
       "      <td>Small</td>\n",
       "      <td>120</td>\n",
       "      <td>100</td>\n",
       "      <td>13.059816123454882, 77.77068662374292</td>\n",
       "      <td>78</td>\n",
       "      <td>KA66CD5678</td>\n",
       "      <td>Fraud</td>\n",
       "    </tr>\n",
       "    <tr>\n",
       "      <th>2</th>\n",
       "      <td>3</td>\n",
       "      <td>2023-01-08 18:25:00</td>\n",
       "      <td>Motorcycle</td>\n",
       "      <td>NaN</td>\n",
       "      <td>D-104</td>\n",
       "      <td>Regular</td>\n",
       "      <td>Small</td>\n",
       "      <td>0</td>\n",
       "      <td>0</td>\n",
       "      <td>13.059816123454882, 77.77068662374292</td>\n",
       "      <td>53</td>\n",
       "      <td>KA88EF9012</td>\n",
       "      <td>Not Fraud</td>\n",
       "    </tr>\n",
       "    <tr>\n",
       "      <th>3</th>\n",
       "      <td>4</td>\n",
       "      <td>2023-01-09 02:05:00</td>\n",
       "      <td>Truck</td>\n",
       "      <td>FTG-044-LMN-322</td>\n",
       "      <td>C-103</td>\n",
       "      <td>Regular</td>\n",
       "      <td>Large</td>\n",
       "      <td>350</td>\n",
       "      <td>120</td>\n",
       "      <td>13.059816123454882, 77.77068662374292</td>\n",
       "      <td>92</td>\n",
       "      <td>KA11GH3456</td>\n",
       "      <td>Fraud</td>\n",
       "    </tr>\n",
       "    <tr>\n",
       "      <th>4</th>\n",
       "      <td>5</td>\n",
       "      <td>2023-01-10 06:35:00</td>\n",
       "      <td>Van</td>\n",
       "      <td>FTG-505-DEF-652</td>\n",
       "      <td>B-102</td>\n",
       "      <td>Express</td>\n",
       "      <td>Medium</td>\n",
       "      <td>140</td>\n",
       "      <td>100</td>\n",
       "      <td>13.059816123454882, 77.77068662374292</td>\n",
       "      <td>60</td>\n",
       "      <td>KA44IJ6789</td>\n",
       "      <td>Fraud</td>\n",
       "    </tr>\n",
       "  </tbody>\n",
       "</table>\n",
       "</div>"
      ],
      "text/plain": [
       "   Transaction_ID           Timestamp Vehicle_Type         FastagID  \\\n",
       "0               1 2023-01-06 11:20:00         Bus   FTG-001-ABC-121   \n",
       "1               2 2023-01-07 14:55:00          Car  FTG-002-XYZ-451   \n",
       "2               3 2023-01-08 18:25:00   Motorcycle              NaN   \n",
       "3               4 2023-01-09 02:05:00        Truck  FTG-044-LMN-322   \n",
       "4               5 2023-01-10 06:35:00          Van  FTG-505-DEF-652   \n",
       "\n",
       "  TollBoothID Lane_Type Vehicle_Dimensions  Transaction_Amount  Amount_paid  \\\n",
       "0       A-101   Express              Large                 350          120   \n",
       "1       B-102   Regular              Small                 120          100   \n",
       "2       D-104   Regular              Small                   0            0   \n",
       "3       C-103   Regular              Large                 350          120   \n",
       "4       B-102   Express             Medium                 140          100   \n",
       "\n",
       "                   Geographical_Location  Vehicle_Speed Vehicle_Plate_Number  \\\n",
       "0  13.059816123454882, 77.77068662374292             65           KA11AB1234   \n",
       "1  13.059816123454882, 77.77068662374292             78           KA66CD5678   \n",
       "2  13.059816123454882, 77.77068662374292             53           KA88EF9012   \n",
       "3  13.059816123454882, 77.77068662374292             92           KA11GH3456   \n",
       "4  13.059816123454882, 77.77068662374292             60           KA44IJ6789   \n",
       "\n",
       "  Fraud_indicator  \n",
       "0           Fraud  \n",
       "1           Fraud  \n",
       "2       Not Fraud  \n",
       "3           Fraud  \n",
       "4           Fraud  "
      ]
     },
     "execution_count": 297,
     "metadata": {},
     "output_type": "execute_result"
    }
   ],
   "source": [
    "df['Timestamp'] = pd.to_datetime(df['Timestamp'])\n",
    "df.head()"
   ]
  },
  {
   "cell_type": "code",
   "execution_count": 298,
   "metadata": {},
   "outputs": [
    {
     "name": "stdout",
     "output_type": "stream",
     "text": [
      "<class 'pandas.core.frame.DataFrame'>\n",
      "Int64Index: 4451 entries, 0 to 4999\n",
      "Data columns (total 13 columns):\n",
      " #   Column                 Non-Null Count  Dtype         \n",
      "---  ------                 --------------  -----         \n",
      " 0   Transaction_ID         4451 non-null   int64         \n",
      " 1   Timestamp              4451 non-null   datetime64[ns]\n",
      " 2   Vehicle_Type           4451 non-null   object        \n",
      " 3   FastagID               4451 non-null   object        \n",
      " 4   TollBoothID            4451 non-null   object        \n",
      " 5   Lane_Type              4451 non-null   object        \n",
      " 6   Vehicle_Dimensions     4451 non-null   object        \n",
      " 7   Transaction_Amount     4451 non-null   int64         \n",
      " 8   Amount_paid            4451 non-null   int64         \n",
      " 9   Geographical_Location  4451 non-null   object        \n",
      " 10  Vehicle_Speed          4451 non-null   int64         \n",
      " 11  Vehicle_Plate_Number   4451 non-null   object        \n",
      " 12  Fraud_indicator        4451 non-null   object        \n",
      "dtypes: datetime64[ns](1), int64(4), object(8)\n",
      "memory usage: 486.8+ KB\n"
     ]
    }
   ],
   "source": [
    "df = df.dropna(subset=['FastagID'])\n",
    "df.info()"
   ]
  },
  {
   "cell_type": "code",
   "execution_count": 299,
   "metadata": {},
   "outputs": [],
   "source": [
    "features = ['Transaction_Amount', 'Amount_paid']\n",
    "X = df[features]\n",
    "y = df['Fraud_indicator']\n",
    "X_train, X_test, y_train, y_test = train_test_split(X, y, test_size=0.75, random_state=42)"
   ]
  },
  {
   "cell_type": "code",
   "execution_count": 300,
   "metadata": {},
   "outputs": [],
   "source": [
    "scaler = StandardScaler()\n",
    "X_train_scaled = scaler.fit_transform(X_train)\n",
    "X_test_scaled = scaler.transform(X_test)"
   ]
  },
  {
   "cell_type": "code",
   "execution_count": 301,
   "metadata": {},
   "outputs": [],
   "source": [
    "label_encoder = LabelEncoder()\n",
    "y_train_encoded = label_encoder.fit_transform(y_train)\n",
    "y_test_encoded = label_encoder.transform(y_test)"
   ]
  },
  {
   "cell_type": "code",
   "execution_count": 302,
   "metadata": {},
   "outputs": [],
   "source": [
    "model = Sequential()\n",
    "model.add(Dense(32, activation='relu', input_shape=(X_train_scaled.shape[1],)))\n",
    "model.add(Dense(16, activation='relu'))\n",
    "model.add(Dense(1, activation='sigmoid'))\n",
    "model.add(Dropout(0.2))"
   ]
  },
  {
   "cell_type": "code",
   "execution_count": 303,
   "metadata": {},
   "outputs": [
    {
     "name": "stdout",
     "output_type": "stream",
     "text": [
      "Model: \"sequential_16\"\n",
      "_________________________________________________________________\n",
      " Layer (type)                Output Shape              Param #   \n",
      "=================================================================\n",
      " dense_50 (Dense)            (None, 32)                96        \n",
      "                                                                 \n",
      " dense_51 (Dense)            (None, 16)                528       \n",
      "                                                                 \n",
      " dense_52 (Dense)            (None, 1)                 17        \n",
      "                                                                 \n",
      " dropout_15 (Dropout)        (None, 1)                 0         \n",
      "                                                                 \n",
      "=================================================================\n",
      "Total params: 641 (2.50 KB)\n",
      "Trainable params: 641 (2.50 KB)\n",
      "Non-trainable params: 0 (0.00 Byte)\n",
      "_________________________________________________________________\n"
     ]
    }
   ],
   "source": [
    "model.summary()"
   ]
  },
  {
   "cell_type": "code",
   "execution_count": 304,
   "metadata": {},
   "outputs": [],
   "source": [
    "model.compile(optimizer='adam', loss='binary_crossentropy', metrics=['accuracy'])"
   ]
  },
  {
   "cell_type": "code",
   "execution_count": 305,
   "metadata": {},
   "outputs": [],
   "source": [
    "checkpoint = ModelCheckpoint(\"neural_networks.h5\", monitor='val_accuracy', verbose=1, save_best_only=True, mode='max')\n",
    "callbacks_list = [checkpoint]"
   ]
  },
  {
   "cell_type": "code",
   "execution_count": 306,
   "metadata": {},
   "outputs": [
    {
     "name": "stdout",
     "output_type": "stream",
     "text": [
      "Epoch 1/10\n",
      " 1/53 [..............................] - ETA: 7s - loss: 3.2616 - accuracy: 0.7500\n",
      "Epoch 1: val_accuracy improved from -inf to 0.82014, saving model to neural_networks.h5\n",
      "53/53 [==============================] - 0s 2ms/step - loss: 2.7984 - accuracy: 0.6547 - val_loss: 0.5235 - val_accuracy: 0.8201\n",
      "Epoch 2/10\n",
      " 1/53 [..............................] - ETA: 0s - loss: 3.1604 - accuracy: 0.6875\n",
      "Epoch 2: val_accuracy improved from 0.82014 to 0.87410, saving model to neural_networks.h5\n",
      "53/53 [==============================] - 0s 736us/step - loss: 2.8454 - accuracy: 0.6487 - val_loss: 0.4665 - val_accuracy: 0.8741\n",
      "Epoch 3/10\n",
      " 1/53 [..............................] - ETA: 0s - loss: 3.2093 - accuracy: 0.5625\n",
      "Epoch 3: val_accuracy improved from 0.87410 to 0.92086, saving model to neural_networks.h5\n",
      "53/53 [==============================] - 0s 678us/step - loss: 2.5057 - accuracy: 0.7242 - val_loss: 0.4373 - val_accuracy: 0.9209\n",
      "Epoch 4/10\n",
      " 1/53 [..............................] - ETA: 0s - loss: 5.9528 - accuracy: 0.6250\n",
      "Epoch 4: val_accuracy did not improve from 0.92086\n",
      "53/53 [==============================] - 0s 609us/step - loss: 2.6947 - accuracy: 0.7074 - val_loss: 0.3852 - val_accuracy: 0.9173\n",
      "Epoch 5/10\n",
      " 1/53 [..............................] - ETA: 0s - loss: 4.9403 - accuracy: 0.6250\n",
      "Epoch 5: val_accuracy improved from 0.92086 to 0.95683, saving model to neural_networks.h5\n",
      "53/53 [==============================] - 0s 689us/step - loss: 3.1044 - accuracy: 0.7002 - val_loss: 0.3690 - val_accuracy: 0.9568\n",
      "Epoch 6/10\n",
      " 1/53 [..............................] - ETA: 0s - loss: 1.2431 - accuracy: 0.7500\n",
      "Epoch 6: val_accuracy improved from 0.95683 to 0.97842, saving model to neural_networks.h5\n",
      "53/53 [==============================] - 0s 683us/step - loss: 2.3742 - accuracy: 0.7638 - val_loss: 0.3503 - val_accuracy: 0.9784\n",
      "Epoch 7/10\n",
      " 1/53 [..............................] - ETA: 0s - loss: 2.1093 - accuracy: 0.7500"
     ]
    },
    {
     "name": "stderr",
     "output_type": "stream",
     "text": [
      "/Library/Frameworks/Python.framework/Versions/3.11/lib/python3.11/site-packages/keras/src/engine/training.py:3000: UserWarning: You are saving your model as an HDF5 file via `model.save()`. This file format is considered legacy. We recommend using instead the native Keras format, e.g. `model.save('my_model.keras')`.\n",
      "  saving_api.save_model(\n"
     ]
    },
    {
     "name": "stdout",
     "output_type": "stream",
     "text": [
      "\n",
      "Epoch 7: val_accuracy did not improve from 0.97842\n",
      "53/53 [==============================] - 0s 613us/step - loss: 2.5931 - accuracy: 0.7674 - val_loss: 0.2873 - val_accuracy: 0.9784\n",
      "Epoch 8/10\n",
      " 1/53 [..............................] - ETA: 0s - loss: 4.9404 - accuracy: 0.6250\n",
      "Epoch 8: val_accuracy improved from 0.97842 to 0.98561, saving model to neural_networks.h5\n",
      "53/53 [==============================] - 0s 709us/step - loss: 2.4574 - accuracy: 0.7854 - val_loss: 0.2873 - val_accuracy: 0.9856\n",
      "Epoch 9/10\n",
      " 1/53 [..............................] - ETA: 0s - loss: 2.9423 - accuracy: 0.8125\n",
      "Epoch 9: val_accuracy improved from 0.98561 to 0.98921, saving model to neural_networks.h5\n",
      "53/53 [==============================] - 0s 673us/step - loss: 2.6527 - accuracy: 0.7842 - val_loss: 0.2524 - val_accuracy: 0.9892\n",
      "Epoch 10/10\n",
      " 1/53 [..............................] - ETA: 0s - loss: 3.1371 - accuracy: 0.6875\n",
      "Epoch 10: val_accuracy did not improve from 0.98921\n",
      "53/53 [==============================] - 0s 602us/step - loss: 2.4475 - accuracy: 0.7998 - val_loss: 0.2159 - val_accuracy: 0.9892\n"
     ]
    }
   ],
   "source": [
    "history = model.fit(X_train_scaled, y_train_encoded, epochs=10, batch_size=16, validation_split=0.25, callbacks=callbacks_list)"
   ]
  },
  {
   "cell_type": "code",
   "execution_count": 307,
   "metadata": {},
   "outputs": [
    {
     "name": "stdout",
     "output_type": "stream",
     "text": [
      "105/105 [==============================] - 0s 230us/step\n"
     ]
    }
   ],
   "source": [
    "y_pred_prob = model.predict(X_test_scaled)\n",
    "y_pred = np.round(y_pred_prob)"
   ]
  },
  {
   "cell_type": "code",
   "execution_count": 308,
   "metadata": {},
   "outputs": [
    {
     "data": {
      "text/plain": [
       "array([[ 668,   57],\n",
       "       [   0, 2614]])"
      ]
     },
     "execution_count": 308,
     "metadata": {},
     "output_type": "execute_result"
    }
   ],
   "source": [
    "confusion = confusion_matrix(y_test_encoded, y_pred)\n",
    "confusion"
   ]
  },
  {
   "cell_type": "code",
   "execution_count": 309,
   "metadata": {},
   "outputs": [],
   "source": [
    "accuracy = accuracy_score(y_test_encoded, y_pred)\n",
    "precision = precision_score(y_test_encoded, y_pred)\n",
    "recall = recall_score(y_test_encoded, y_pred)\n",
    "f1score = f1_score(y_test_encoded, y_pred)"
   ]
  },
  {
   "cell_type": "code",
   "execution_count": 310,
   "metadata": {},
   "outputs": [
    {
     "name": "stdout",
     "output_type": "stream",
     "text": [
      "Accuracy:  0.9829290206648698\n",
      "Precision:  0.9786596780232123\n",
      "Recall:  1.0\n",
      "F1 Score:  0.9892147587511827\n"
     ]
    }
   ],
   "source": [
    "print(\"Accuracy: \", accuracy)\n",
    "print(\"Precision: \", precision)\n",
    "print(\"Recall: \", recall)\n",
    "print(\"F1 Score: \", f1score)"
   ]
  }
 ],
 "metadata": {
  "kernelspec": {
   "display_name": "Python 3",
   "language": "python",
   "name": "python3"
  },
  "language_info": {
   "codemirror_mode": {
    "name": "ipython",
    "version": 3
   },
   "file_extension": ".py",
   "mimetype": "text/x-python",
   "name": "python",
   "nbconvert_exporter": "python",
   "pygments_lexer": "ipython3",
   "version": "3.11.1"
  }
 },
 "nbformat": 4,
 "nbformat_minor": 2
}
