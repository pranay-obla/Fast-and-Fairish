{
 "cells": [
  {
   "cell_type": "code",
   "execution_count": 31,
   "metadata": {},
   "outputs": [],
   "source": [
    "import numpy as np\n",
    "import pandas as pd \n",
    "from sklearn.metrics import accuracy_score, precision_score, recall_score, f1_score\n",
    "from sklearn.model_selection import train_test_split\n",
    "from sklearn.preprocessing import StandardScaler\n",
    "from sklearn.preprocessing import LabelEncoder\n",
    "from sklearn.metrics import confusion_matrix, classification_report\n",
    "import tensorflow as tf\n",
    "from tensorflow.keras.models import Sequential\n",
    "from tensorflow.keras.layers import Dense, Dropout\n",
    "from tensorflow.keras.callbacks import ModelCheckpoint"
   ]
  },
  {
   "cell_type": "code",
   "execution_count": 32,
   "metadata": {},
   "outputs": [
    {
     "data": {
      "text/html": [
       "<div>\n",
       "<style scoped>\n",
       "    .dataframe tbody tr th:only-of-type {\n",
       "        vertical-align: middle;\n",
       "    }\n",
       "\n",
       "    .dataframe tbody tr th {\n",
       "        vertical-align: top;\n",
       "    }\n",
       "\n",
       "    .dataframe thead th {\n",
       "        text-align: right;\n",
       "    }\n",
       "</style>\n",
       "<table border=\"1\" class=\"dataframe\">\n",
       "  <thead>\n",
       "    <tr style=\"text-align: right;\">\n",
       "      <th></th>\n",
       "      <th>Transaction_ID</th>\n",
       "      <th>Timestamp</th>\n",
       "      <th>Vehicle_Type</th>\n",
       "      <th>FastagID</th>\n",
       "      <th>TollBoothID</th>\n",
       "      <th>Lane_Type</th>\n",
       "      <th>Vehicle_Dimensions</th>\n",
       "      <th>Transaction_Amount</th>\n",
       "      <th>Amount_paid</th>\n",
       "      <th>Geographical_Location</th>\n",
       "      <th>Vehicle_Speed</th>\n",
       "      <th>Vehicle_Plate_Number</th>\n",
       "      <th>Fraud_indicator</th>\n",
       "    </tr>\n",
       "  </thead>\n",
       "  <tbody>\n",
       "    <tr>\n",
       "      <th>0</th>\n",
       "      <td>1</td>\n",
       "      <td>1/6/2023 11:20</td>\n",
       "      <td>Bus</td>\n",
       "      <td>FTG-001-ABC-121</td>\n",
       "      <td>A-101</td>\n",
       "      <td>Express</td>\n",
       "      <td>Large</td>\n",
       "      <td>350</td>\n",
       "      <td>120</td>\n",
       "      <td>13.059816123454882, 77.77068662374292</td>\n",
       "      <td>65</td>\n",
       "      <td>KA11AB1234</td>\n",
       "      <td>Fraud</td>\n",
       "    </tr>\n",
       "    <tr>\n",
       "      <th>1</th>\n",
       "      <td>2</td>\n",
       "      <td>1/7/2023 14:55</td>\n",
       "      <td>Car</td>\n",
       "      <td>FTG-002-XYZ-451</td>\n",
       "      <td>B-102</td>\n",
       "      <td>Regular</td>\n",
       "      <td>Small</td>\n",
       "      <td>120</td>\n",
       "      <td>100</td>\n",
       "      <td>13.059816123454882, 77.77068662374292</td>\n",
       "      <td>78</td>\n",
       "      <td>KA66CD5678</td>\n",
       "      <td>Fraud</td>\n",
       "    </tr>\n",
       "    <tr>\n",
       "      <th>2</th>\n",
       "      <td>3</td>\n",
       "      <td>1/8/2023 18:25</td>\n",
       "      <td>Motorcycle</td>\n",
       "      <td>NaN</td>\n",
       "      <td>D-104</td>\n",
       "      <td>Regular</td>\n",
       "      <td>Small</td>\n",
       "      <td>0</td>\n",
       "      <td>0</td>\n",
       "      <td>13.059816123454882, 77.77068662374292</td>\n",
       "      <td>53</td>\n",
       "      <td>KA88EF9012</td>\n",
       "      <td>Not Fraud</td>\n",
       "    </tr>\n",
       "    <tr>\n",
       "      <th>3</th>\n",
       "      <td>4</td>\n",
       "      <td>1/9/2023 2:05</td>\n",
       "      <td>Truck</td>\n",
       "      <td>FTG-044-LMN-322</td>\n",
       "      <td>C-103</td>\n",
       "      <td>Regular</td>\n",
       "      <td>Large</td>\n",
       "      <td>350</td>\n",
       "      <td>120</td>\n",
       "      <td>13.059816123454882, 77.77068662374292</td>\n",
       "      <td>92</td>\n",
       "      <td>KA11GH3456</td>\n",
       "      <td>Fraud</td>\n",
       "    </tr>\n",
       "    <tr>\n",
       "      <th>4</th>\n",
       "      <td>5</td>\n",
       "      <td>1/10/2023 6:35</td>\n",
       "      <td>Van</td>\n",
       "      <td>FTG-505-DEF-652</td>\n",
       "      <td>B-102</td>\n",
       "      <td>Express</td>\n",
       "      <td>Medium</td>\n",
       "      <td>140</td>\n",
       "      <td>100</td>\n",
       "      <td>13.059816123454882, 77.77068662374292</td>\n",
       "      <td>60</td>\n",
       "      <td>KA44IJ6789</td>\n",
       "      <td>Fraud</td>\n",
       "    </tr>\n",
       "  </tbody>\n",
       "</table>\n",
       "</div>"
      ],
      "text/plain": [
       "   Transaction_ID       Timestamp Vehicle_Type         FastagID TollBoothID  \\\n",
       "0               1  1/6/2023 11:20         Bus   FTG-001-ABC-121       A-101   \n",
       "1               2  1/7/2023 14:55          Car  FTG-002-XYZ-451       B-102   \n",
       "2               3  1/8/2023 18:25   Motorcycle              NaN       D-104   \n",
       "3               4   1/9/2023 2:05        Truck  FTG-044-LMN-322       C-103   \n",
       "4               5  1/10/2023 6:35          Van  FTG-505-DEF-652       B-102   \n",
       "\n",
       "  Lane_Type Vehicle_Dimensions  Transaction_Amount  Amount_paid  \\\n",
       "0   Express              Large                 350          120   \n",
       "1   Regular              Small                 120          100   \n",
       "2   Regular              Small                   0            0   \n",
       "3   Regular              Large                 350          120   \n",
       "4   Express             Medium                 140          100   \n",
       "\n",
       "                   Geographical_Location  Vehicle_Speed Vehicle_Plate_Number  \\\n",
       "0  13.059816123454882, 77.77068662374292             65           KA11AB1234   \n",
       "1  13.059816123454882, 77.77068662374292             78           KA66CD5678   \n",
       "2  13.059816123454882, 77.77068662374292             53           KA88EF9012   \n",
       "3  13.059816123454882, 77.77068662374292             92           KA11GH3456   \n",
       "4  13.059816123454882, 77.77068662374292             60           KA44IJ6789   \n",
       "\n",
       "  Fraud_indicator  \n",
       "0           Fraud  \n",
       "1           Fraud  \n",
       "2       Not Fraud  \n",
       "3           Fraud  \n",
       "4           Fraud  "
      ]
     },
     "execution_count": 32,
     "metadata": {},
     "output_type": "execute_result"
    }
   ],
   "source": [
    "df = pd.read_csv('dataset.csv')\n",
    "df.head()"
   ]
  },
  {
   "cell_type": "code",
   "execution_count": 33,
   "metadata": {},
   "outputs": [
    {
     "name": "stdout",
     "output_type": "stream",
     "text": [
      "<class 'pandas.core.frame.DataFrame'>\n",
      "RangeIndex: 5000 entries, 0 to 4999\n",
      "Data columns (total 13 columns):\n",
      " #   Column                 Non-Null Count  Dtype \n",
      "---  ------                 --------------  ----- \n",
      " 0   Transaction_ID         5000 non-null   int64 \n",
      " 1   Timestamp              5000 non-null   object\n",
      " 2   Vehicle_Type           5000 non-null   object\n",
      " 3   FastagID               4451 non-null   object\n",
      " 4   TollBoothID            5000 non-null   object\n",
      " 5   Lane_Type              5000 non-null   object\n",
      " 6   Vehicle_Dimensions     5000 non-null   object\n",
      " 7   Transaction_Amount     5000 non-null   int64 \n",
      " 8   Amount_paid            5000 non-null   int64 \n",
      " 9   Geographical_Location  5000 non-null   object\n",
      " 10  Vehicle_Speed          5000 non-null   int64 \n",
      " 11  Vehicle_Plate_Number   5000 non-null   object\n",
      " 12  Fraud_indicator        5000 non-null   object\n",
      "dtypes: int64(4), object(9)\n",
      "memory usage: 507.9+ KB\n"
     ]
    }
   ],
   "source": [
    "df.info()"
   ]
  },
  {
   "cell_type": "code",
   "execution_count": 34,
   "metadata": {},
   "outputs": [
    {
     "data": {
      "text/plain": [
       "(5000, 13)"
      ]
     },
     "execution_count": 34,
     "metadata": {},
     "output_type": "execute_result"
    }
   ],
   "source": [
    "df.shape"
   ]
  },
  {
   "cell_type": "code",
   "execution_count": 35,
   "metadata": {},
   "outputs": [
    {
     "data": {
      "text/html": [
       "<div>\n",
       "<style scoped>\n",
       "    .dataframe tbody tr th:only-of-type {\n",
       "        vertical-align: middle;\n",
       "    }\n",
       "\n",
       "    .dataframe tbody tr th {\n",
       "        vertical-align: top;\n",
       "    }\n",
       "\n",
       "    .dataframe thead th {\n",
       "        text-align: right;\n",
       "    }\n",
       "</style>\n",
       "<table border=\"1\" class=\"dataframe\">\n",
       "  <thead>\n",
       "    <tr style=\"text-align: right;\">\n",
       "      <th></th>\n",
       "      <th>Transaction_ID</th>\n",
       "      <th>Transaction_Amount</th>\n",
       "      <th>Amount_paid</th>\n",
       "      <th>Vehicle_Speed</th>\n",
       "    </tr>\n",
       "  </thead>\n",
       "  <tbody>\n",
       "    <tr>\n",
       "      <th>count</th>\n",
       "      <td>5000.000000</td>\n",
       "      <td>5000.00000</td>\n",
       "      <td>5000.000000</td>\n",
       "      <td>5000.000000</td>\n",
       "    </tr>\n",
       "    <tr>\n",
       "      <th>mean</th>\n",
       "      <td>2500.500000</td>\n",
       "      <td>161.06200</td>\n",
       "      <td>141.261000</td>\n",
       "      <td>67.851200</td>\n",
       "    </tr>\n",
       "    <tr>\n",
       "      <th>std</th>\n",
       "      <td>1443.520003</td>\n",
       "      <td>112.44995</td>\n",
       "      <td>106.480996</td>\n",
       "      <td>16.597547</td>\n",
       "    </tr>\n",
       "    <tr>\n",
       "      <th>min</th>\n",
       "      <td>1.000000</td>\n",
       "      <td>0.00000</td>\n",
       "      <td>0.000000</td>\n",
       "      <td>10.000000</td>\n",
       "    </tr>\n",
       "    <tr>\n",
       "      <th>25%</th>\n",
       "      <td>1250.750000</td>\n",
       "      <td>100.00000</td>\n",
       "      <td>90.000000</td>\n",
       "      <td>54.000000</td>\n",
       "    </tr>\n",
       "    <tr>\n",
       "      <th>50%</th>\n",
       "      <td>2500.500000</td>\n",
       "      <td>130.00000</td>\n",
       "      <td>120.000000</td>\n",
       "      <td>67.000000</td>\n",
       "    </tr>\n",
       "    <tr>\n",
       "      <th>75%</th>\n",
       "      <td>3750.250000</td>\n",
       "      <td>290.00000</td>\n",
       "      <td>160.000000</td>\n",
       "      <td>82.000000</td>\n",
       "    </tr>\n",
       "    <tr>\n",
       "      <th>max</th>\n",
       "      <td>5000.000000</td>\n",
       "      <td>350.00000</td>\n",
       "      <td>350.000000</td>\n",
       "      <td>118.000000</td>\n",
       "    </tr>\n",
       "  </tbody>\n",
       "</table>\n",
       "</div>"
      ],
      "text/plain": [
       "       Transaction_ID  Transaction_Amount  Amount_paid  Vehicle_Speed\n",
       "count     5000.000000          5000.00000  5000.000000    5000.000000\n",
       "mean      2500.500000           161.06200   141.261000      67.851200\n",
       "std       1443.520003           112.44995   106.480996      16.597547\n",
       "min          1.000000             0.00000     0.000000      10.000000\n",
       "25%       1250.750000           100.00000    90.000000      54.000000\n",
       "50%       2500.500000           130.00000   120.000000      67.000000\n",
       "75%       3750.250000           290.00000   160.000000      82.000000\n",
       "max       5000.000000           350.00000   350.000000     118.000000"
      ]
     },
     "execution_count": 35,
     "metadata": {},
     "output_type": "execute_result"
    }
   ],
   "source": [
    "df.describe()"
   ]
  },
  {
   "cell_type": "code",
   "execution_count": 36,
   "metadata": {},
   "outputs": [
    {
     "data": {
      "text/html": [
       "<div>\n",
       "<style scoped>\n",
       "    .dataframe tbody tr th:only-of-type {\n",
       "        vertical-align: middle;\n",
       "    }\n",
       "\n",
       "    .dataframe tbody tr th {\n",
       "        vertical-align: top;\n",
       "    }\n",
       "\n",
       "    .dataframe thead th {\n",
       "        text-align: right;\n",
       "    }\n",
       "</style>\n",
       "<table border=\"1\" class=\"dataframe\">\n",
       "  <thead>\n",
       "    <tr style=\"text-align: right;\">\n",
       "      <th></th>\n",
       "      <th>Transaction_ID</th>\n",
       "      <th>Timestamp</th>\n",
       "      <th>Vehicle_Type</th>\n",
       "      <th>FastagID</th>\n",
       "      <th>TollBoothID</th>\n",
       "      <th>Lane_Type</th>\n",
       "      <th>Vehicle_Dimensions</th>\n",
       "      <th>Transaction_Amount</th>\n",
       "      <th>Amount_paid</th>\n",
       "      <th>Geographical_Location</th>\n",
       "      <th>Vehicle_Speed</th>\n",
       "      <th>Vehicle_Plate_Number</th>\n",
       "      <th>Fraud_indicator</th>\n",
       "    </tr>\n",
       "  </thead>\n",
       "  <tbody>\n",
       "    <tr>\n",
       "      <th>0</th>\n",
       "      <td>1</td>\n",
       "      <td>2023-01-06 11:20:00</td>\n",
       "      <td>Bus</td>\n",
       "      <td>FTG-001-ABC-121</td>\n",
       "      <td>A-101</td>\n",
       "      <td>Express</td>\n",
       "      <td>Large</td>\n",
       "      <td>350</td>\n",
       "      <td>120</td>\n",
       "      <td>13.059816123454882, 77.77068662374292</td>\n",
       "      <td>65</td>\n",
       "      <td>KA11AB1234</td>\n",
       "      <td>Fraud</td>\n",
       "    </tr>\n",
       "    <tr>\n",
       "      <th>1</th>\n",
       "      <td>2</td>\n",
       "      <td>2023-01-07 14:55:00</td>\n",
       "      <td>Car</td>\n",
       "      <td>FTG-002-XYZ-451</td>\n",
       "      <td>B-102</td>\n",
       "      <td>Regular</td>\n",
       "      <td>Small</td>\n",
       "      <td>120</td>\n",
       "      <td>100</td>\n",
       "      <td>13.059816123454882, 77.77068662374292</td>\n",
       "      <td>78</td>\n",
       "      <td>KA66CD5678</td>\n",
       "      <td>Fraud</td>\n",
       "    </tr>\n",
       "    <tr>\n",
       "      <th>2</th>\n",
       "      <td>3</td>\n",
       "      <td>2023-01-08 18:25:00</td>\n",
       "      <td>Motorcycle</td>\n",
       "      <td>NaN</td>\n",
       "      <td>D-104</td>\n",
       "      <td>Regular</td>\n",
       "      <td>Small</td>\n",
       "      <td>0</td>\n",
       "      <td>0</td>\n",
       "      <td>13.059816123454882, 77.77068662374292</td>\n",
       "      <td>53</td>\n",
       "      <td>KA88EF9012</td>\n",
       "      <td>Not Fraud</td>\n",
       "    </tr>\n",
       "    <tr>\n",
       "      <th>3</th>\n",
       "      <td>4</td>\n",
       "      <td>2023-01-09 02:05:00</td>\n",
       "      <td>Truck</td>\n",
       "      <td>FTG-044-LMN-322</td>\n",
       "      <td>C-103</td>\n",
       "      <td>Regular</td>\n",
       "      <td>Large</td>\n",
       "      <td>350</td>\n",
       "      <td>120</td>\n",
       "      <td>13.059816123454882, 77.77068662374292</td>\n",
       "      <td>92</td>\n",
       "      <td>KA11GH3456</td>\n",
       "      <td>Fraud</td>\n",
       "    </tr>\n",
       "    <tr>\n",
       "      <th>4</th>\n",
       "      <td>5</td>\n",
       "      <td>2023-01-10 06:35:00</td>\n",
       "      <td>Van</td>\n",
       "      <td>FTG-505-DEF-652</td>\n",
       "      <td>B-102</td>\n",
       "      <td>Express</td>\n",
       "      <td>Medium</td>\n",
       "      <td>140</td>\n",
       "      <td>100</td>\n",
       "      <td>13.059816123454882, 77.77068662374292</td>\n",
       "      <td>60</td>\n",
       "      <td>KA44IJ6789</td>\n",
       "      <td>Fraud</td>\n",
       "    </tr>\n",
       "  </tbody>\n",
       "</table>\n",
       "</div>"
      ],
      "text/plain": [
       "   Transaction_ID           Timestamp Vehicle_Type         FastagID  \\\n",
       "0               1 2023-01-06 11:20:00         Bus   FTG-001-ABC-121   \n",
       "1               2 2023-01-07 14:55:00          Car  FTG-002-XYZ-451   \n",
       "2               3 2023-01-08 18:25:00   Motorcycle              NaN   \n",
       "3               4 2023-01-09 02:05:00        Truck  FTG-044-LMN-322   \n",
       "4               5 2023-01-10 06:35:00          Van  FTG-505-DEF-652   \n",
       "\n",
       "  TollBoothID Lane_Type Vehicle_Dimensions  Transaction_Amount  Amount_paid  \\\n",
       "0       A-101   Express              Large                 350          120   \n",
       "1       B-102   Regular              Small                 120          100   \n",
       "2       D-104   Regular              Small                   0            0   \n",
       "3       C-103   Regular              Large                 350          120   \n",
       "4       B-102   Express             Medium                 140          100   \n",
       "\n",
       "                   Geographical_Location  Vehicle_Speed Vehicle_Plate_Number  \\\n",
       "0  13.059816123454882, 77.77068662374292             65           KA11AB1234   \n",
       "1  13.059816123454882, 77.77068662374292             78           KA66CD5678   \n",
       "2  13.059816123454882, 77.77068662374292             53           KA88EF9012   \n",
       "3  13.059816123454882, 77.77068662374292             92           KA11GH3456   \n",
       "4  13.059816123454882, 77.77068662374292             60           KA44IJ6789   \n",
       "\n",
       "  Fraud_indicator  \n",
       "0           Fraud  \n",
       "1           Fraud  \n",
       "2       Not Fraud  \n",
       "3           Fraud  \n",
       "4           Fraud  "
      ]
     },
     "execution_count": 36,
     "metadata": {},
     "output_type": "execute_result"
    }
   ],
   "source": [
    "df['Timestamp'] = pd.to_datetime(df['Timestamp'])\n",
    "df.head()"
   ]
  },
  {
   "cell_type": "code",
   "execution_count": 37,
   "metadata": {},
   "outputs": [
    {
     "name": "stdout",
     "output_type": "stream",
     "text": [
      "<class 'pandas.core.frame.DataFrame'>\n",
      "Int64Index: 4451 entries, 0 to 4999\n",
      "Data columns (total 13 columns):\n",
      " #   Column                 Non-Null Count  Dtype         \n",
      "---  ------                 --------------  -----         \n",
      " 0   Transaction_ID         4451 non-null   int64         \n",
      " 1   Timestamp              4451 non-null   datetime64[ns]\n",
      " 2   Vehicle_Type           4451 non-null   object        \n",
      " 3   FastagID               4451 non-null   object        \n",
      " 4   TollBoothID            4451 non-null   object        \n",
      " 5   Lane_Type              4451 non-null   object        \n",
      " 6   Vehicle_Dimensions     4451 non-null   object        \n",
      " 7   Transaction_Amount     4451 non-null   int64         \n",
      " 8   Amount_paid            4451 non-null   int64         \n",
      " 9   Geographical_Location  4451 non-null   object        \n",
      " 10  Vehicle_Speed          4451 non-null   int64         \n",
      " 11  Vehicle_Plate_Number   4451 non-null   object        \n",
      " 12  Fraud_indicator        4451 non-null   object        \n",
      "dtypes: datetime64[ns](1), int64(4), object(8)\n",
      "memory usage: 486.8+ KB\n"
     ]
    }
   ],
   "source": [
    "df = df.dropna(subset=['FastagID'])\n",
    "df.info()"
   ]
  },
  {
   "cell_type": "code",
   "execution_count": 38,
   "metadata": {},
   "outputs": [
    {
     "data": {
      "text/html": [
       "<div>\n",
       "<style scoped>\n",
       "    .dataframe tbody tr th:only-of-type {\n",
       "        vertical-align: middle;\n",
       "    }\n",
       "\n",
       "    .dataframe tbody tr th {\n",
       "        vertical-align: top;\n",
       "    }\n",
       "\n",
       "    .dataframe thead th {\n",
       "        text-align: right;\n",
       "    }\n",
       "</style>\n",
       "<table border=\"1\" class=\"dataframe\">\n",
       "  <thead>\n",
       "    <tr style=\"text-align: right;\">\n",
       "      <th></th>\n",
       "      <th>Transaction_ID</th>\n",
       "      <th>Timestamp</th>\n",
       "      <th>Vehicle_Type</th>\n",
       "      <th>FastagID</th>\n",
       "      <th>TollBoothID</th>\n",
       "      <th>Lane_Type</th>\n",
       "      <th>Vehicle_Dimensions</th>\n",
       "      <th>Transaction_Amount</th>\n",
       "      <th>Amount_paid</th>\n",
       "      <th>Geographical_Location</th>\n",
       "      <th>Vehicle_Speed</th>\n",
       "      <th>Vehicle_Plate_Number</th>\n",
       "      <th>Fraud_indicator</th>\n",
       "      <th>is_duplicate_fastag</th>\n",
       "      <th>is_duplicate_plate</th>\n",
       "    </tr>\n",
       "  </thead>\n",
       "  <tbody>\n",
       "    <tr>\n",
       "      <th>0</th>\n",
       "      <td>1</td>\n",
       "      <td>2023-01-06 11:20:00</td>\n",
       "      <td>Bus</td>\n",
       "      <td>FTG-001-ABC-121</td>\n",
       "      <td>A-101</td>\n",
       "      <td>Express</td>\n",
       "      <td>Large</td>\n",
       "      <td>350</td>\n",
       "      <td>120</td>\n",
       "      <td>13.059816123454882, 77.77068662374292</td>\n",
       "      <td>65</td>\n",
       "      <td>KA11AB1234</td>\n",
       "      <td>Fraud</td>\n",
       "      <td>False</td>\n",
       "      <td>False</td>\n",
       "    </tr>\n",
       "    <tr>\n",
       "      <th>1</th>\n",
       "      <td>2</td>\n",
       "      <td>2023-01-07 14:55:00</td>\n",
       "      <td>Car</td>\n",
       "      <td>FTG-002-XYZ-451</td>\n",
       "      <td>B-102</td>\n",
       "      <td>Regular</td>\n",
       "      <td>Small</td>\n",
       "      <td>120</td>\n",
       "      <td>100</td>\n",
       "      <td>13.059816123454882, 77.77068662374292</td>\n",
       "      <td>78</td>\n",
       "      <td>KA66CD5678</td>\n",
       "      <td>Fraud</td>\n",
       "      <td>False</td>\n",
       "      <td>False</td>\n",
       "    </tr>\n",
       "    <tr>\n",
       "      <th>3</th>\n",
       "      <td>4</td>\n",
       "      <td>2023-01-09 02:05:00</td>\n",
       "      <td>Truck</td>\n",
       "      <td>FTG-044-LMN-322</td>\n",
       "      <td>C-103</td>\n",
       "      <td>Regular</td>\n",
       "      <td>Large</td>\n",
       "      <td>350</td>\n",
       "      <td>120</td>\n",
       "      <td>13.059816123454882, 77.77068662374292</td>\n",
       "      <td>92</td>\n",
       "      <td>KA11GH3456</td>\n",
       "      <td>Fraud</td>\n",
       "      <td>False</td>\n",
       "      <td>False</td>\n",
       "    </tr>\n",
       "    <tr>\n",
       "      <th>4</th>\n",
       "      <td>5</td>\n",
       "      <td>2023-01-10 06:35:00</td>\n",
       "      <td>Van</td>\n",
       "      <td>FTG-505-DEF-652</td>\n",
       "      <td>B-102</td>\n",
       "      <td>Express</td>\n",
       "      <td>Medium</td>\n",
       "      <td>140</td>\n",
       "      <td>100</td>\n",
       "      <td>13.059816123454882, 77.77068662374292</td>\n",
       "      <td>60</td>\n",
       "      <td>KA44IJ6789</td>\n",
       "      <td>Fraud</td>\n",
       "      <td>False</td>\n",
       "      <td>False</td>\n",
       "    </tr>\n",
       "    <tr>\n",
       "      <th>5</th>\n",
       "      <td>6</td>\n",
       "      <td>2023-01-11 10:00:00</td>\n",
       "      <td>Sedan</td>\n",
       "      <td>FTG-066-GHI-987</td>\n",
       "      <td>A-101</td>\n",
       "      <td>Regular</td>\n",
       "      <td>Medium</td>\n",
       "      <td>160</td>\n",
       "      <td>100</td>\n",
       "      <td>13.059816123454882, 77.77068662374292</td>\n",
       "      <td>105</td>\n",
       "      <td>KA77KL0123</td>\n",
       "      <td>Fraud</td>\n",
       "      <td>False</td>\n",
       "      <td>False</td>\n",
       "    </tr>\n",
       "  </tbody>\n",
       "</table>\n",
       "</div>"
      ],
      "text/plain": [
       "   Transaction_ID           Timestamp Vehicle_Type         FastagID  \\\n",
       "0               1 2023-01-06 11:20:00         Bus   FTG-001-ABC-121   \n",
       "1               2 2023-01-07 14:55:00          Car  FTG-002-XYZ-451   \n",
       "3               4 2023-01-09 02:05:00        Truck  FTG-044-LMN-322   \n",
       "4               5 2023-01-10 06:35:00          Van  FTG-505-DEF-652   \n",
       "5               6 2023-01-11 10:00:00        Sedan  FTG-066-GHI-987   \n",
       "\n",
       "  TollBoothID Lane_Type Vehicle_Dimensions  Transaction_Amount  Amount_paid  \\\n",
       "0       A-101   Express              Large                 350          120   \n",
       "1       B-102   Regular              Small                 120          100   \n",
       "3       C-103   Regular              Large                 350          120   \n",
       "4       B-102   Express             Medium                 140          100   \n",
       "5       A-101   Regular             Medium                 160          100   \n",
       "\n",
       "                   Geographical_Location  Vehicle_Speed Vehicle_Plate_Number  \\\n",
       "0  13.059816123454882, 77.77068662374292             65           KA11AB1234   \n",
       "1  13.059816123454882, 77.77068662374292             78           KA66CD5678   \n",
       "3  13.059816123454882, 77.77068662374292             92           KA11GH3456   \n",
       "4  13.059816123454882, 77.77068662374292             60           KA44IJ6789   \n",
       "5  13.059816123454882, 77.77068662374292            105           KA77KL0123   \n",
       "\n",
       "  Fraud_indicator  is_duplicate_fastag  is_duplicate_plate  \n",
       "0           Fraud                False               False  \n",
       "1           Fraud                False               False  \n",
       "3           Fraud                False               False  \n",
       "4           Fraud                False               False  \n",
       "5           Fraud                False               False  "
      ]
     },
     "execution_count": 38,
     "metadata": {},
     "output_type": "execute_result"
    }
   ],
   "source": [
    "df['is_duplicate_fastag'] = df.duplicated(subset='FastagID', keep=False)\n",
    "df['is_duplicate_plate'] = df.duplicated(subset='Vehicle_Plate_Number', keep=False)\n",
    "df.head()"
   ]
  },
  {
   "cell_type": "code",
   "execution_count": 39,
   "metadata": {},
   "outputs": [],
   "source": [
    "label_encoder = LabelEncoder()\n",
    "df['Vehicle_Type'] = label_encoder.fit_transform(df['Vehicle_Type'])\n",
    "df['Lane_Type'] = label_encoder.fit_transform(df['Lane_Type'])\n",
    "df['Geographical_Location'] = label_encoder.fit_transform(df['Geographical_Location'])"
   ]
  },
  {
   "cell_type": "code",
   "execution_count": 40,
   "metadata": {},
   "outputs": [],
   "source": [
    "for col in ['Transaction_Amount', 'Amount_paid', 'Vehicle_Speed']:\n",
    "    df[col] = pd.to_numeric(df[col], errors='coerce')\n",
    "    df[col].fillna(df[col].mean(), inplace=True)"
   ]
  },
  {
   "cell_type": "code",
   "execution_count": 41,
   "metadata": {},
   "outputs": [],
   "source": [
    "df = df.drop(['Vehicle_Speed', 'Timestamp'], axis=1)"
   ]
  },
  {
   "cell_type": "code",
   "execution_count": 42,
   "metadata": {},
   "outputs": [],
   "source": [
    "df['Fraud_indicator'] = df['Fraud_indicator'].map({'Fraud': 1, 'Not Fraud': 0})"
   ]
  },
  {
   "cell_type": "code",
   "execution_count": 43,
   "metadata": {},
   "outputs": [],
   "source": [
    "features = ['Transaction_Amount', 'Amount_paid', 'Vehicle_Type', 'Lane_Type', 'Geographical_Location']\n",
    "X = df[features]\n",
    "y = df['Fraud_indicator']\n",
    "X_train, X_test, y_train, y_test = train_test_split(X, y, test_size=0.75, random_state=42)"
   ]
  },
  {
   "cell_type": "code",
   "execution_count": 44,
   "metadata": {},
   "outputs": [],
   "source": [
    "scaler = StandardScaler()\n",
    "X_train_scaled = scaler.fit_transform(X_train)\n",
    "X_test_scaled = scaler.transform(X_test)"
   ]
  },
  {
   "cell_type": "code",
   "execution_count": 45,
   "metadata": {},
   "outputs": [],
   "source": [
    "label_encoder = LabelEncoder()\n",
    "y_train_encoded = label_encoder.fit_transform(y_train)\n",
    "y_test_encoded = label_encoder.transform(y_test)"
   ]
  },
  {
   "cell_type": "code",
   "execution_count": 46,
   "metadata": {},
   "outputs": [],
   "source": [
    "model = Sequential()\n",
    "model.add(Dense(32, activation='relu', input_shape=(X_train.shape[1],)))\n",
    "model.add(Dense(16, activation='relu'))\n",
    "model.add(Dense(1, activation='sigmoid'))\n",
    "model.add(Dropout(0.2))"
   ]
  },
  {
   "cell_type": "code",
   "execution_count": 47,
   "metadata": {},
   "outputs": [
    {
     "name": "stdout",
     "output_type": "stream",
     "text": [
      "Model: \"sequential_1\"\n",
      "_________________________________________________________________\n",
      " Layer (type)                Output Shape              Param #   \n",
      "=================================================================\n",
      " dense_3 (Dense)             (None, 32)                192       \n",
      "                                                                 \n",
      " dense_4 (Dense)             (None, 16)                528       \n",
      "                                                                 \n",
      " dense_5 (Dense)             (None, 1)                 17        \n",
      "                                                                 \n",
      " dropout_1 (Dropout)         (None, 1)                 0         \n",
      "                                                                 \n",
      "=================================================================\n",
      "Total params: 737 (2.88 KB)\n",
      "Trainable params: 737 (2.88 KB)\n",
      "Non-trainable params: 0 (0.00 Byte)\n",
      "_________________________________________________________________\n"
     ]
    }
   ],
   "source": [
    "model.summary()"
   ]
  },
  {
   "cell_type": "code",
   "execution_count": 48,
   "metadata": {},
   "outputs": [],
   "source": [
    "model.compile(optimizer='adam', loss='binary_crossentropy', metrics=['accuracy'])"
   ]
  },
  {
   "cell_type": "code",
   "execution_count": 49,
   "metadata": {},
   "outputs": [],
   "source": [
    "checkpoint = ModelCheckpoint(\"neural_networks.h5\", monitor='val_accuracy', verbose=1, save_best_only=True, mode='max')\n",
    "callbacks_list = [checkpoint]"
   ]
  },
  {
   "cell_type": "code",
   "execution_count": 50,
   "metadata": {},
   "outputs": [
    {
     "name": "stdout",
     "output_type": "stream",
     "text": [
      "Epoch 1/20\n"
     ]
    },
    {
     "name": "stdout",
     "output_type": "stream",
     "text": [
      " 1/53 [..............................] - ETA: 7s - loss: 6.4711 - accuracy: 0.5625"
     ]
    },
    {
     "name": "stderr",
     "output_type": "stream",
     "text": [
      "/Library/Frameworks/Python.framework/Versions/3.11/lib/python3.11/site-packages/keras/src/engine/data_adapter.py:1798: FutureWarning: The behavior of `series[i:j]` with an integer-dtype index is deprecated. In a future version, this will be treated as *label-based* indexing, consistent with e.g. `series[i]` lookups. To retain the old behavior, use `series.iloc[i:j]`. To get the future behavior, use `series.loc[i:j]`.\n",
      "  return t[start:end]\n"
     ]
    },
    {
     "name": "stdout",
     "output_type": "stream",
     "text": [
      "\n",
      "Epoch 1: val_accuracy improved from -inf to 0.93165, saving model to neural_networks.h5\n",
      "53/53 [==============================] - 0s 2ms/step - loss: 2.0560 - accuracy: 0.7218 - val_loss: 0.1799 - val_accuracy: 0.9317\n",
      "Epoch 2/20\n",
      " 1/53 [..............................] - ETA: 0s - loss: 1.0714 - accuracy: 0.8750\n",
      "Epoch 2: val_accuracy improved from 0.93165 to 0.94604, saving model to neural_networks.h5\n",
      "53/53 [==============================] - 0s 693us/step - loss: 0.9155 - accuracy: 0.9017 - val_loss: 0.1227 - val_accuracy: 0.9460\n",
      "Epoch 3/20\n",
      " 1/53 [..............................] - ETA: 0s - loss: 1.3695 - accuracy: 0.7500\n",
      "Epoch 3: val_accuracy improved from 0.94604 to 0.98201, saving model to neural_networks.h5\n",
      "53/53 [==============================] - 0s 657us/step - loss: 1.0119 - accuracy: 0.9101 - val_loss: 0.0673 - val_accuracy: 0.9820\n",
      "Epoch 4/20\n",
      " 1/53 [..............................] - ETA: 0s - loss: 0.0258 - accuracy: 1.0000\n",
      "Epoch 4: val_accuracy did not improve from 0.98201\n",
      "53/53 [==============================] - 0s 573us/step - loss: 0.7512 - accuracy: 0.9353 - val_loss: 0.0585 - val_accuracy: 0.9820\n",
      "Epoch 5/20\n",
      " 1/53 [..............................] - ETA: 0s - loss: 0.2236 - accuracy: 0.9375\n",
      "Epoch 5: val_accuracy improved from 0.98201 to 0.98921, saving model to neural_networks.h5\n",
      "53/53 [==============================] - 0s 680us/step - loss: 0.8854 - accuracy: 0.9293 - val_loss: 0.0560 - val_accuracy: 0.9892\n",
      "Epoch 6/20\n",
      " 1/53 [..............................] - ETA: 0s - loss: 2.9026 - accuracy: 0.8125\n",
      "Epoch 6: val_accuracy did not improve from 0.98921\n",
      "53/53 [==============================] - 0s 567us/step - loss: 0.9485 - accuracy: 0.9245 - val_loss: 0.0488 - val_accuracy: 0.9856\n",
      "Epoch 7/20\n",
      " 1/53 [..............................] - ETA: 0s - loss: 0.1290 - accuracy: 0.9375"
     ]
    },
    {
     "name": "stderr",
     "output_type": "stream",
     "text": [
      "/Library/Frameworks/Python.framework/Versions/3.11/lib/python3.11/site-packages/keras/src/engine/training.py:3000: UserWarning: You are saving your model as an HDF5 file via `model.save()`. This file format is considered legacy. We recommend using instead the native Keras format, e.g. `model.save('my_model.keras')`.\n",
      "  saving_api.save_model(\n"
     ]
    },
    {
     "name": "stdout",
     "output_type": "stream",
     "text": [
      "\n",
      "Epoch 7: val_accuracy did not improve from 0.98921\n",
      "53/53 [==============================] - 0s 579us/step - loss: 0.7636 - accuracy: 0.9388 - val_loss: 0.0447 - val_accuracy: 0.9892\n",
      "Epoch 8/20\n",
      " 1/53 [..............................] - ETA: 0s - loss: 1.0000 - accuracy: 0.9375\n",
      "Epoch 8: val_accuracy did not improve from 0.98921\n",
      "53/53 [==============================] - 0s 582us/step - loss: 0.9418 - accuracy: 0.9281 - val_loss: 0.0414 - val_accuracy: 0.9892\n",
      "Epoch 9/20\n",
      " 1/53 [..............................] - ETA: 0s - loss: 0.0201 - accuracy: 1.0000\n",
      "Epoch 9: val_accuracy improved from 0.98921 to 0.99281, saving model to neural_networks.h5\n",
      "53/53 [==============================] - 0s 651us/step - loss: 0.8461 - accuracy: 0.9424 - val_loss: 0.0388 - val_accuracy: 0.9928\n",
      "Epoch 10/20\n",
      " 1/53 [..............................] - ETA: 0s - loss: 0.9822 - accuracy: 0.9375\n",
      "Epoch 10: val_accuracy did not improve from 0.99281\n",
      "53/53 [==============================] - 0s 1ms/step - loss: 0.7459 - accuracy: 0.9412 - val_loss: 0.0372 - val_accuracy: 0.9928\n",
      "Epoch 11/20\n",
      " 1/53 [..............................] - ETA: 0s - loss: 0.9711 - accuracy: 0.9375\n",
      "Epoch 11: val_accuracy did not improve from 0.99281\n",
      "53/53 [==============================] - 0s 587us/step - loss: 0.8827 - accuracy: 0.9365 - val_loss: 0.0342 - val_accuracy: 0.9928\n",
      "Epoch 12/20\n",
      " 1/53 [..............................] - ETA: 0s - loss: 0.0315 - accuracy: 1.0000\n",
      "Epoch 12: val_accuracy did not improve from 0.99281\n",
      "53/53 [==============================] - 0s 571us/step - loss: 0.8137 - accuracy: 0.9353 - val_loss: 0.0390 - val_accuracy: 0.9820\n",
      "Epoch 13/20\n",
      " 1/53 [..............................] - ETA: 0s - loss: 0.9645 - accuracy: 0.9375\n",
      "Epoch 13: val_accuracy did not improve from 0.99281\n",
      "53/53 [==============================] - 0s 566us/step - loss: 0.8186 - accuracy: 0.9388 - val_loss: 0.0296 - val_accuracy: 0.9928\n",
      "Epoch 14/20\n",
      " 1/53 [..............................] - ETA: 0s - loss: 0.9731 - accuracy: 0.9375\n",
      "Epoch 14: val_accuracy did not improve from 0.99281\n",
      "53/53 [==============================] - 0s 576us/step - loss: 0.9153 - accuracy: 0.9365 - val_loss: 0.0249 - val_accuracy: 0.9928\n",
      "Epoch 15/20\n",
      " 1/53 [..............................] - ETA: 0s - loss: 0.0433 - accuracy: 1.0000\n",
      "Epoch 15: val_accuracy did not improve from 0.99281\n",
      "53/53 [==============================] - 0s 568us/step - loss: 0.5216 - accuracy: 0.9604 - val_loss: 0.0230 - val_accuracy: 0.9928\n",
      "Epoch 16/20\n",
      " 1/53 [..............................] - ETA: 0s - loss: 0.0149 - accuracy: 1.0000\n",
      "Epoch 16: val_accuracy improved from 0.99281 to 0.99640, saving model to neural_networks.h5\n",
      "53/53 [==============================] - 0s 644us/step - loss: 0.4363 - accuracy: 0.9628 - val_loss: 0.0239 - val_accuracy: 0.9964\n",
      "Epoch 17/20\n",
      " 1/53 [..............................] - ETA: 0s - loss: 1.9392 - accuracy: 0.8750\n",
      "Epoch 17: val_accuracy did not improve from 0.99640\n",
      "53/53 [==============================] - 0s 573us/step - loss: 0.7465 - accuracy: 0.9484 - val_loss: 0.0257 - val_accuracy: 0.9964\n",
      "Epoch 18/20\n",
      " 1/53 [..............................] - ETA: 0s - loss: 1.9486 - accuracy: 0.8750\n",
      "Epoch 18: val_accuracy did not improve from 0.99640\n",
      "53/53 [==============================] - 0s 565us/step - loss: 0.8739 - accuracy: 0.9353 - val_loss: 0.0256 - val_accuracy: 0.9928\n",
      "Epoch 19/20\n",
      " 1/53 [..............................] - ETA: 0s - loss: 0.0242 - accuracy: 1.0000\n",
      "Epoch 19: val_accuracy did not improve from 0.99640\n",
      "53/53 [==============================] - 0s 579us/step - loss: 0.6173 - accuracy: 0.9496 - val_loss: 0.0262 - val_accuracy: 0.9928\n",
      "Epoch 20/20\n",
      " 1/53 [..............................] - ETA: 0s - loss: 0.9747 - accuracy: 0.9375\n",
      "Epoch 20: val_accuracy did not improve from 0.99640\n",
      "53/53 [==============================] - 0s 582us/step - loss: 0.7735 - accuracy: 0.9472 - val_loss: 0.0164 - val_accuracy: 0.9928\n"
     ]
    }
   ],
   "source": [
    "history = model.fit(X_train, y_train, epochs=20, batch_size=16, validation_split=0.25, callbacks=callbacks_list)"
   ]
  },
  {
   "cell_type": "code",
   "execution_count": 51,
   "metadata": {},
   "outputs": [
    {
     "name": "stdout",
     "output_type": "stream",
     "text": [
      "105/105 [==============================] - 0s 236us/step\n"
     ]
    }
   ],
   "source": [
    "y_pred_prob = model.predict(X_test_scaled)\n",
    "y_pred = np.round(y_pred_prob)"
   ]
  },
  {
   "cell_type": "code",
   "execution_count": 52,
   "metadata": {},
   "outputs": [
    {
     "data": {
      "text/plain": [
       "array([[2283,  331],\n",
       "       [ 504,  221]])"
      ]
     },
     "execution_count": 52,
     "metadata": {},
     "output_type": "execute_result"
    }
   ],
   "source": [
    "confusion = confusion_matrix(y_test_encoded, y_pred)\n",
    "confusion"
   ]
  },
  {
   "cell_type": "code",
   "execution_count": 53,
   "metadata": {},
   "outputs": [],
   "source": [
    "accuracy = accuracy_score(y_test_encoded, y_pred)\n",
    "precision = precision_score(y_test_encoded, y_pred)\n",
    "recall = recall_score(y_test_encoded, y_pred)\n",
    "f1score = f1_score(y_test_encoded, y_pred)"
   ]
  },
  {
   "cell_type": "code",
   "execution_count": 54,
   "metadata": {},
   "outputs": [
    {
     "name": "stdout",
     "output_type": "stream",
     "text": [
      "Accuracy:  0.7499251272836178\n",
      "Precision:  0.4003623188405797\n",
      "Recall:  0.30482758620689654\n",
      "F1 Score:  0.346123727486296\n"
     ]
    }
   ],
   "source": [
    "print(\"Accuracy: \", accuracy)\n",
    "print(\"Precision: \", precision)\n",
    "print(\"Recall: \", recall)\n",
    "print(\"F1 Score: \", f1score)"
   ]
  }
 ],
 "metadata": {
  "kernelspec": {
   "display_name": "Python 3",
   "language": "python",
   "name": "python3"
  },
  "language_info": {
   "codemirror_mode": {
    "name": "ipython",
    "version": 3
   },
   "file_extension": ".py",
   "mimetype": "text/x-python",
   "name": "python",
   "nbconvert_exporter": "python",
   "pygments_lexer": "ipython3",
   "version": "3.11.1"
  }
 },
 "nbformat": 4,
 "nbformat_minor": 2
}
